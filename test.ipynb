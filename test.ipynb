{
 "cells": [
  {
   "cell_type": "code",
   "execution_count": 13,
   "metadata": {},
   "outputs": [
    {
     "name": "stderr",
     "output_type": "stream",
     "text": [
      "Using custom data configuration default\n"
     ]
    },
    {
     "data": {
      "text/plain": [
       "True"
      ]
     },
     "execution_count": 13,
     "metadata": {},
     "output_type": "execute_result"
    }
   ],
   "source": [
    "from datasets import get_dataset_config_names, get_dataset_split_names, load_dataset, load_dataset_builder\n",
    "\n",
    "from datasets.features import features\n",
    "\n",
    "\n",
    "\n",
    "DATASET_NAME = 'trec'\n",
    "\n",
    "ds_builder = load_dataset_builder(DATASET_NAME)\n",
    "\n",
    "ds_builder.info.features['label-coarse']._type == features.ClassLabel._type\n",
    "\n"
   ]
  }
 ],
 "metadata": {
  "kernelspec": {
   "display_name": "Python 3.8.10 ('env': venv)",
   "language": "python",
   "name": "python3"
  },
  "language_info": {
   "codemirror_mode": {
    "name": "ipython",
    "version": 3
   },
   "file_extension": ".py",
   "mimetype": "text/x-python",
   "name": "python",
   "nbconvert_exporter": "python",
   "pygments_lexer": "ipython3",
   "version": "3.8.10"
  },
  "orig_nbformat": 4,
  "vscode": {
   "interpreter": {
    "hash": "fb89a23ed8a1dcd8f90bc2ba7e12d8a26cb2533413466de643608ffee6de001e"
   }
  }
 },
 "nbformat": 4,
 "nbformat_minor": 2
}
