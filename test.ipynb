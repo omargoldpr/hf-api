{
 "cells": [
  {
   "cell_type": "code",
   "execution_count": 8,
   "metadata": {},
   "outputs": [
    {
     "name": "stderr",
     "output_type": "stream",
     "text": [
      "Using custom data configuration default\n",
      "Using custom data configuration default\n",
      "Reusing dataset trec (/home/omar/.cache/huggingface/datasets/trec/default/1.1.0/751da1ab101b8d297a3d6e9c79ee9b0173ff94c4497b75677b59b61d5467a9b9)\n"
     ]
    },
    {
     "ename": "AttributeError",
     "evalue": "'Value' object has no attribute 'names'",
     "output_type": "error",
     "traceback": [
      "\u001b[0;31m---------------------------------------------------------------------------\u001b[0m",
      "\u001b[0;31mAttributeError\u001b[0m                            Traceback (most recent call last)",
      "\u001b[1;32m/home/omar/projects/hf-api/test.ipynb Cell 1\u001b[0m in \u001b[0;36m<cell line: 18>\u001b[0;34m()\u001b[0m\n\u001b[1;32m     <a href='vscode-notebook-cell://ssh-remote%2Bomargoldpr.com/home/omar/projects/hf-api/test.ipynb#W0sdnNjb2RlLXJlbW90ZQ%3D%3D?line=13'>14</a>\u001b[0m DATASET_NAME \u001b[39m=\u001b[39m \u001b[39m'\u001b[39m\u001b[39mtrec\u001b[39m\u001b[39m'\u001b[39m\n\u001b[1;32m     <a href='vscode-notebook-cell://ssh-remote%2Bomargoldpr.com/home/omar/projects/hf-api/test.ipynb#W0sdnNjb2RlLXJlbW90ZQ%3D%3D?line=15'>16</a>\u001b[0m dataset \u001b[39m=\u001b[39m load_dataset(DATASET_NAME, split\u001b[39m=\u001b[39m\u001b[39m\"\u001b[39m\u001b[39mtrain\u001b[39m\u001b[39m\"\u001b[39m)\n\u001b[0;32m---> <a href='vscode-notebook-cell://ssh-remote%2Bomargoldpr.com/home/omar/projects/hf-api/test.ipynb#W0sdnNjb2RlLXJlbW90ZQ%3D%3D?line=17'>18</a>\u001b[0m ds_builder\u001b[39m.\u001b[39;49minfo\u001b[39m.\u001b[39;49mfeatures[\u001b[39m'\u001b[39;49m\u001b[39mtext\u001b[39;49m\u001b[39m'\u001b[39;49m]\u001b[39m.\u001b[39;49mnames\n",
      "\u001b[0;31mAttributeError\u001b[0m: 'Value' object has no attribute 'names'"
     ]
    }
   ],
   "source": [
    "from datasets import get_dataset_config_names, get_dataset_split_names, load_dataset, load_dataset_builder, features\n",
    "\n",
    "\n",
    "\n",
    "\n",
    "DATASET_NAME = 'trec'\n",
    "\n",
    "ds_builder = load_dataset_builder(DATASET_NAME)\n",
    "\n",
    "ds_builder.info.features['label-coarse']._type == features.ClassLabel._type\n",
    "\n",
    "list(ds_builder.info.features.keys())\n",
    "\n",
    "DATASET_NAME = 'trec'\n",
    "\n",
    "dataset = load_dataset(DATASET_NAME, split=\"train\")\n",
    "\n",
    "ds_builder.info.features['text'].names\n",
    "\n",
    "\n"
   ]
  }
 ],
 "metadata": {
  "kernelspec": {
   "display_name": "Python 3.8.10 ('env': venv)",
   "language": "python",
   "name": "python3"
  },
  "language_info": {
   "codemirror_mode": {
    "name": "ipython",
    "version": 3
   },
   "file_extension": ".py",
   "mimetype": "text/x-python",
   "name": "python",
   "nbconvert_exporter": "python",
   "pygments_lexer": "ipython3",
   "version": "3.8.10"
  },
  "orig_nbformat": 4,
  "vscode": {
   "interpreter": {
    "hash": "fb89a23ed8a1dcd8f90bc2ba7e12d8a26cb2533413466de643608ffee6de001e"
   }
  }
 },
 "nbformat": 4,
 "nbformat_minor": 2
}
