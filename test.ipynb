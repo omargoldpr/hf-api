{
 "cells": [
  {
   "cell_type": "code",
   "execution_count": 22,
   "metadata": {},
   "outputs": [
    {
     "name": "stderr",
     "output_type": "stream",
     "text": [
      "Using custom data configuration default\n",
      "Using custom data configuration default\n",
      "Reusing dataset trec (/home/omar/.cache/huggingface/datasets/trec/default/1.1.0/751da1ab101b8d297a3d6e9c79ee9b0173ff94c4497b75677b59b61d5467a9b9)\n"
     ]
    },
    {
     "data": {
      "text/plain": [
       "{'label-coarse': 0,\n",
       " 'label-fine': 0,\n",
       " 'text': 'How did serfdom develop in and then leave Russia ?'}"
      ]
     },
     "execution_count": 22,
     "metadata": {},
     "output_type": "execute_result"
    }
   ],
   "source": [
    "from datasets import get_dataset_config_names, get_dataset_split_names, load_dataset, load_dataset_builder\n",
    "\n",
    "\n",
    "\n",
    "\n",
    "DATASET_NAME = 'trec'\n",
    "\n",
    "ds_builder = load_dataset_builder(DATASET_NAME)\n",
    "\n",
    "ds_builder.info.features['label-coarse']._type == features.ClassLabel._type\n",
    "\n",
    "list(ds_builder.info.features.keys())\n",
    "\n",
    "DATASET_NAME = 'trec'\n",
    "\n",
    "dataset = load_dataset(DATASET_NAME, split=\"train\")\n",
    "\n",
    "dataset[0]\n",
    "\n",
    "\n"
   ]
  },
  {
   "cell_type": "code",
   "execution_count": 14,
   "metadata": {},
   "outputs": [
    {
     "name": "stdout",
     "output_type": "stream",
     "text": [
      "123\n"
     ]
    }
   ],
   "source": [
    "# program to create class dynamically\n",
    "\n",
    "# constructor\n",
    "def constructor(self, arg):\n",
    "\tself.constructor_arg = arg\n",
    "\n",
    "# method\n",
    "def displayMethod(self, arg):\n",
    "\tprint(arg)\n",
    "\n",
    "# class method\n",
    "@classmethod\n",
    "def classMethod(cls, arg):\n",
    "\tprint(arg)\n",
    "\n",
    "\n",
    "d = {\n",
    "    # \"__init__\": constructor,\n",
    "    # \"func_arg\": displayMethod,\n",
    "\t# \"class_func\": classMethod\n",
    "}\n",
    "for feature in ds_builder.info.features.keys():\n",
    "    d[feature.replace(\"-\",\"_\")] = \"123\"\n",
    "    \n",
    "@strawberry.type\n",
    "class Base:\n",
    "    name: str\n",
    "\n",
    "# creating class dynamically\n",
    "DatasetClass = type(DATASET_NAME, (Base, ),d)\n",
    "\n",
    "# creating objects\n",
    "obj = DatasetClass(\"constructor argument\")\n",
    "print(obj.label_coarse)\n",
    "# print(obj.label-coarse)\n",
    "# print(obj.int_attribute)\n",
    "# obj.func_arg(\"Geeks for Geeks\")\n",
    "# Geeks.class_func(\"Class Dynamically Created !\")\n"
   ]
  }
 ],
 "metadata": {
  "kernelspec": {
   "display_name": "Python 3.8.10 ('env': venv)",
   "language": "python",
   "name": "python3"
  },
  "language_info": {
   "codemirror_mode": {
    "name": "ipython",
    "version": 3
   },
   "file_extension": ".py",
   "mimetype": "text/x-python",
   "name": "python",
   "nbconvert_exporter": "python",
   "pygments_lexer": "ipython3",
   "version": "3.8.10"
  },
  "orig_nbformat": 4,
  "vscode": {
   "interpreter": {
    "hash": "fb89a23ed8a1dcd8f90bc2ba7e12d8a26cb2533413466de643608ffee6de001e"
   }
  }
 },
 "nbformat": 4,
 "nbformat_minor": 2
}
