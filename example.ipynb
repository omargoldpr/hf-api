{
 "cells": [
  {
   "cell_type": "markdown",
   "metadata": {},
   "source": [
    "# hf-api Example"
   ]
  },
  {
   "cell_type": "code",
   "execution_count": 4,
   "metadata": {},
   "outputs": [],
   "source": [
    "from sgqlc.endpoint.http import HTTPEndpoint\n",
    "import pandas as pd\n",
    "\n",
    "url = 'https://hf-api.omargoldpr.com/'\n",
    "\n"
   ]
  },
  {
   "cell_type": "code",
   "execution_count": 5,
   "metadata": {},
   "outputs": [
    {
     "data": {
      "text/html": [
       "<div>\n",
       "<style scoped>\n",
       "    .dataframe tbody tr th:only-of-type {\n",
       "        vertical-align: middle;\n",
       "    }\n",
       "\n",
       "    .dataframe tbody tr th {\n",
       "        vertical-align: top;\n",
       "    }\n",
       "\n",
       "    .dataframe thead th {\n",
       "        text-align: right;\n",
       "    }\n",
       "</style>\n",
       "<table border=\"1\" class=\"dataframe\">\n",
       "  <thead>\n",
       "    <tr style=\"text-align: right;\">\n",
       "      <th></th>\n",
       "      <th>split</th>\n",
       "      <th>text</th>\n",
       "      <th>labelCourse</th>\n",
       "      <th>labelCourseName</th>\n",
       "      <th>labelFine</th>\n",
       "      <th>labelFineName</th>\n",
       "      <th>label</th>\n",
       "    </tr>\n",
       "  </thead>\n",
       "  <tbody>\n",
       "    <tr>\n",
       "      <th>0</th>\n",
       "      <td>train</td>\n",
       "      <td>What films featured the character Popeye Doyle ?</td>\n",
       "      <td>1</td>\n",
       "      <td>ENTY</td>\n",
       "      <td>1</td>\n",
       "      <td>cremat</td>\n",
       "      <td>ENTY:cremat</td>\n",
       "    </tr>\n",
       "    <tr>\n",
       "      <th>1</th>\n",
       "      <td>train</td>\n",
       "      <td>What 's the name of Popeye 's adopted son ?</td>\n",
       "      <td>3</td>\n",
       "      <td>HUM</td>\n",
       "      <td>4</td>\n",
       "      <td>ind</td>\n",
       "      <td>HUM:ind</td>\n",
       "    </tr>\n",
       "    <tr>\n",
       "      <th>2</th>\n",
       "      <td>train</td>\n",
       "      <td>Who 's baby was Sweet Pea on the Popeye cartoon ?</td>\n",
       "      <td>3</td>\n",
       "      <td>HUM</td>\n",
       "      <td>4</td>\n",
       "      <td>ind</td>\n",
       "      <td>HUM:ind</td>\n",
       "    </tr>\n",
       "    <tr>\n",
       "      <th>3</th>\n",
       "      <td>train</td>\n",
       "      <td>What interesting method was used to run the cr...</td>\n",
       "      <td>1</td>\n",
       "      <td>ENTY</td>\n",
       "      <td>31</td>\n",
       "      <td>techmeth</td>\n",
       "      <td>ENTY:techmeth</td>\n",
       "    </tr>\n",
       "  </tbody>\n",
       "</table>\n",
       "</div>"
      ],
      "text/plain": [
       "   split                                               text  labelCourse  \\\n",
       "0  train   What films featured the character Popeye Doyle ?            1   \n",
       "1  train        What 's the name of Popeye 's adopted son ?            3   \n",
       "2  train  Who 's baby was Sweet Pea on the Popeye cartoon ?            3   \n",
       "3  train  What interesting method was used to run the cr...            1   \n",
       "\n",
       "  labelCourseName  labelFine labelFineName          label  \n",
       "0            ENTY          1        cremat    ENTY:cremat  \n",
       "1             HUM          4           ind        HUM:ind  \n",
       "2             HUM          4           ind        HUM:ind  \n",
       "3            ENTY         31      techmeth  ENTY:techmeth  "
      ]
     },
     "execution_count": 5,
     "metadata": {},
     "output_type": "execute_result"
    }
   ],
   "source": [
    "query = \"\"\"\n",
    "{\n",
    "  questions(text: \"popeye\") {\n",
    "    split\n",
    "    text\n",
    "    labelCourse\n",
    "    labelCourseName\n",
    "    labelFine\n",
    "    labelFineName\n",
    "    label\n",
    "  }\n",
    "}\n",
    "\n",
    "\"\"\"\n",
    "\n",
    "endpoint = HTTPEndpoint(url)\n",
    "data = endpoint(query)\n",
    "df = pd.DataFrame(data['data']['questions'])\n",
    "df"
   ]
  }
 ],
 "metadata": {
  "kernelspec": {
   "display_name": "Python 3.8.10 ('env': venv)",
   "language": "python",
   "name": "python3"
  },
  "language_info": {
   "codemirror_mode": {
    "name": "ipython",
    "version": 3
   },
   "file_extension": ".py",
   "mimetype": "text/x-python",
   "name": "python",
   "nbconvert_exporter": "python",
   "pygments_lexer": "ipython3",
   "version": "3.8.10"
  },
  "orig_nbformat": 4,
  "vscode": {
   "interpreter": {
    "hash": "fb89a23ed8a1dcd8f90bc2ba7e12d8a26cb2533413466de643608ffee6de001e"
   }
  }
 },
 "nbformat": 4,
 "nbformat_minor": 2
}
